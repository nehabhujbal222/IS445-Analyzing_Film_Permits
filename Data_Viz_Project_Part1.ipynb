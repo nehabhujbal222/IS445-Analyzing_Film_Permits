{
 "cells": [
  {
   "cell_type": "markdown",
   "metadata": {},
   "source": [
    "* Dataset Site: https://data.cityofnewyork.us/City-Government/Film-Permits/tg4x-b46p\n",
    "* API Documentation: https://dev.socrata.com/foundry/data.cityofnewyork.us/tg4x-b46p\n",
    "* Data Documentation: https://www.nyc.gov/site/mome/permits/when-permit-required.page"
   ]
  },
  {
   "cell_type": "code",
   "execution_count": 31,
   "metadata": {},
   "outputs": [],
   "source": [
    "#!pip install sodapy"
   ]
  },
  {
   "cell_type": "code",
   "execution_count": 32,
   "metadata": {},
   "outputs": [
    {
     "name": "stderr",
     "output_type": "stream",
     "text": [
      "WARNING:root:Requests made without an app_token will be subject to strict throttling limits.\n"
     ]
    }
   ],
   "source": [
    "#Code taken from API Documentation\n",
    "#!/usr/bin/env python\n",
    "\n",
    "# make sure to install these packages before running:\n",
    "# pip install pandas\n",
    "# pip install sodapy\n",
    "\n",
    "import pandas as pd\n",
    "from sodapy import Socrata\n",
    "\n",
    "# Unauthenticated client only works with public data sets. Note 'None'\n",
    "# in place of application token, and no username or password:\n",
    "client = Socrata(\"data.cityofnewyork.us\", None)\n",
    "\n",
    "# Example authenticated client (needed for non-public datasets):\n",
    "# client = Socrata(data.cityofnewyork.us,\n",
    "#                  MyAppToken,\n",
    "#                  username=\"user@example.com\",\n",
    "#                  password=\"AFakePassword\")\n",
    "\n",
    "# First 2000 results, returned as JSON from API / converted to Python list of\n",
    "# dictionaries by sodapy.\n",
    "results = client.get(\"tg4x-b46p\", limit=40000)\n",
    "\n",
    "# Convert to pandas DataFrame\n",
    "results_df = pd.DataFrame.from_records(results)"
   ]
  },
  {
   "cell_type": "code",
   "execution_count": 33,
   "metadata": {},
   "outputs": [
    {
     "data": {
      "text/html": [
       "<div>\n",
       "<style scoped>\n",
       "    .dataframe tbody tr th:only-of-type {\n",
       "        vertical-align: middle;\n",
       "    }\n",
       "\n",
       "    .dataframe tbody tr th {\n",
       "        vertical-align: top;\n",
       "    }\n",
       "\n",
       "    .dataframe thead th {\n",
       "        text-align: right;\n",
       "    }\n",
       "</style>\n",
       "<table border=\"1\" class=\"dataframe\">\n",
       "  <thead>\n",
       "    <tr style=\"text-align: right;\">\n",
       "      <th></th>\n",
       "      <th>eventid</th>\n",
       "      <th>eventtype</th>\n",
       "      <th>startdatetime</th>\n",
       "      <th>enddatetime</th>\n",
       "      <th>enteredon</th>\n",
       "      <th>eventagency</th>\n",
       "      <th>parkingheld</th>\n",
       "      <th>borough</th>\n",
       "      <th>communityboard_s</th>\n",
       "      <th>policeprecinct_s</th>\n",
       "      <th>category</th>\n",
       "      <th>subcategoryname</th>\n",
       "      <th>country</th>\n",
       "      <th>zipcode_s</th>\n",
       "    </tr>\n",
       "  </thead>\n",
       "  <tbody>\n",
       "    <tr>\n",
       "      <th>0</th>\n",
       "      <td>670312</td>\n",
       "      <td>Shooting Permit</td>\n",
       "      <td>2022-08-30T13:00:00.000</td>\n",
       "      <td>2022-08-30T23:30:00.000</td>\n",
       "      <td>2022-08-29T11:51:10.000</td>\n",
       "      <td>Mayor's Office of Film, Theatre &amp; Broadcasting</td>\n",
       "      <td>WEST   45 STREET between 9 AVENUE and 8 AVENUE...</td>\n",
       "      <td>Manhattan</td>\n",
       "      <td>4</td>\n",
       "      <td>10, 14, 18</td>\n",
       "      <td>Television</td>\n",
       "      <td>Episodic series</td>\n",
       "      <td>United States of America</td>\n",
       "      <td>10036</td>\n",
       "    </tr>\n",
       "    <tr>\n",
       "      <th>1</th>\n",
       "      <td>670122</td>\n",
       "      <td>Shooting Permit</td>\n",
       "      <td>2022-08-30T06:00:00.000</td>\n",
       "      <td>2022-08-30T22:00:00.000</td>\n",
       "      <td>2022-08-26T15:38:52.000</td>\n",
       "      <td>Mayor's Office of Film, Theatre &amp; Broadcasting</td>\n",
       "      <td>NORMAN AVENUE between JEWEL STREET and HUMBOLD...</td>\n",
       "      <td>Brooklyn</td>\n",
       "      <td>1</td>\n",
       "      <td>94</td>\n",
       "      <td>Commercial</td>\n",
       "      <td>Commercial</td>\n",
       "      <td>United States of America</td>\n",
       "      <td>11222</td>\n",
       "    </tr>\n",
       "    <tr>\n",
       "      <th>2</th>\n",
       "      <td>670067</td>\n",
       "      <td>Shooting Permit</td>\n",
       "      <td>2022-08-30T07:00:00.000</td>\n",
       "      <td>2022-08-30T12:00:00.000</td>\n",
       "      <td>2022-08-26T13:10:40.000</td>\n",
       "      <td>Mayor's Office of Film, Theatre &amp; Broadcasting</td>\n",
       "      <td>GREENPOINT AVENUE between NEWEL STREET and PRO...</td>\n",
       "      <td>Brooklyn</td>\n",
       "      <td>1</td>\n",
       "      <td>94</td>\n",
       "      <td>Television</td>\n",
       "      <td>Episodic series</td>\n",
       "      <td>United States of America</td>\n",
       "      <td>11222</td>\n",
       "    </tr>\n",
       "    <tr>\n",
       "      <th>3</th>\n",
       "      <td>669996</td>\n",
       "      <td>Shooting Permit</td>\n",
       "      <td>2022-08-30T06:00:00.000</td>\n",
       "      <td>2022-08-30T22:00:00.000</td>\n",
       "      <td>2022-08-26T11:01:45.000</td>\n",
       "      <td>Mayor's Office of Film, Theatre &amp; Broadcasting</td>\n",
       "      <td>31 STREET between 47 AVENUE and 48 AVENUE</td>\n",
       "      <td>Queens</td>\n",
       "      <td>2</td>\n",
       "      <td>108</td>\n",
       "      <td>Television</td>\n",
       "      <td>Episodic series</td>\n",
       "      <td>United States of America</td>\n",
       "      <td>11101</td>\n",
       "    </tr>\n",
       "    <tr>\n",
       "      <th>4</th>\n",
       "      <td>669990</td>\n",
       "      <td>Shooting Permit</td>\n",
       "      <td>2022-08-30T08:00:00.000</td>\n",
       "      <td>2022-08-30T23:30:00.000</td>\n",
       "      <td>2022-08-26T10:43:16.000</td>\n",
       "      <td>Mayor's Office of Film, Theatre &amp; Broadcasting</td>\n",
       "      <td>COMMERCIAL STREET between BOX STREET and MANHA...</td>\n",
       "      <td>Brooklyn</td>\n",
       "      <td>1</td>\n",
       "      <td>94</td>\n",
       "      <td>Television</td>\n",
       "      <td>Episodic series</td>\n",
       "      <td>United States of America</td>\n",
       "      <td>11222</td>\n",
       "    </tr>\n",
       "  </tbody>\n",
       "</table>\n",
       "</div>"
      ],
      "text/plain": [
       "  eventid        eventtype            startdatetime              enddatetime  \\\n",
       "0  670312  Shooting Permit  2022-08-30T13:00:00.000  2022-08-30T23:30:00.000   \n",
       "1  670122  Shooting Permit  2022-08-30T06:00:00.000  2022-08-30T22:00:00.000   \n",
       "2  670067  Shooting Permit  2022-08-30T07:00:00.000  2022-08-30T12:00:00.000   \n",
       "3  669996  Shooting Permit  2022-08-30T06:00:00.000  2022-08-30T22:00:00.000   \n",
       "4  669990  Shooting Permit  2022-08-30T08:00:00.000  2022-08-30T23:30:00.000   \n",
       "\n",
       "                 enteredon                                     eventagency  \\\n",
       "0  2022-08-29T11:51:10.000  Mayor's Office of Film, Theatre & Broadcasting   \n",
       "1  2022-08-26T15:38:52.000  Mayor's Office of Film, Theatre & Broadcasting   \n",
       "2  2022-08-26T13:10:40.000  Mayor's Office of Film, Theatre & Broadcasting   \n",
       "3  2022-08-26T11:01:45.000  Mayor's Office of Film, Theatre & Broadcasting   \n",
       "4  2022-08-26T10:43:16.000  Mayor's Office of Film, Theatre & Broadcasting   \n",
       "\n",
       "                                         parkingheld    borough  \\\n",
       "0  WEST   45 STREET between 9 AVENUE and 8 AVENUE...  Manhattan   \n",
       "1  NORMAN AVENUE between JEWEL STREET and HUMBOLD...   Brooklyn   \n",
       "2  GREENPOINT AVENUE between NEWEL STREET and PRO...   Brooklyn   \n",
       "3          31 STREET between 47 AVENUE and 48 AVENUE     Queens   \n",
       "4  COMMERCIAL STREET between BOX STREET and MANHA...   Brooklyn   \n",
       "\n",
       "  communityboard_s policeprecinct_s    category  subcategoryname  \\\n",
       "0                4       10, 14, 18  Television  Episodic series   \n",
       "1                1               94  Commercial       Commercial   \n",
       "2                1               94  Television  Episodic series   \n",
       "3                2              108  Television  Episodic series   \n",
       "4                1               94  Television  Episodic series   \n",
       "\n",
       "                    country zipcode_s  \n",
       "0  United States of America     10036  \n",
       "1  United States of America     11222  \n",
       "2  United States of America     11222  \n",
       "3  United States of America     11101  \n",
       "4  United States of America     11222  "
      ]
     },
     "execution_count": 33,
     "metadata": {},
     "output_type": "execute_result"
    }
   ],
   "source": [
    "results_df.head()"
   ]
  },
  {
   "cell_type": "code",
   "execution_count": 34,
   "metadata": {},
   "outputs": [
    {
     "data": {
      "text/plain": [
       "eventid             0\n",
       "eventtype           0\n",
       "startdatetime       0\n",
       "enddatetime         0\n",
       "enteredon           0\n",
       "eventagency         0\n",
       "parkingheld         0\n",
       "borough             0\n",
       "communityboard_s    0\n",
       "policeprecinct_s    0\n",
       "category            0\n",
       "subcategoryname     0\n",
       "country             0\n",
       "zipcode_s           0\n",
       "dtype: int64"
      ]
     },
     "execution_count": 34,
     "metadata": {},
     "output_type": "execute_result"
    }
   ],
   "source": [
    "results_df.isnull().sum()"
   ]
  },
  {
   "cell_type": "code",
   "execution_count": 35,
   "metadata": {},
   "outputs": [
    {
     "data": {
      "text/plain": [
       "array(['Shooting Permit', 'DCAS Prep/Shoot/Wrap Permit',\n",
       "       'Theater Load in and Load Outs', 'Rigging Permit'], dtype=object)"
      ]
     },
     "execution_count": 35,
     "metadata": {},
     "output_type": "execute_result"
    }
   ],
   "source": [
    "results_df.eventtype.unique()"
   ]
  },
  {
   "cell_type": "code",
   "execution_count": 36,
   "metadata": {},
   "outputs": [
    {
     "data": {
      "text/html": [
       "<div>\n",
       "<style scoped>\n",
       "    .dataframe tbody tr th:only-of-type {\n",
       "        vertical-align: middle;\n",
       "    }\n",
       "\n",
       "    .dataframe tbody tr th {\n",
       "        vertical-align: top;\n",
       "    }\n",
       "\n",
       "    .dataframe thead th {\n",
       "        text-align: right;\n",
       "    }\n",
       "</style>\n",
       "<table border=\"1\" class=\"dataframe\">\n",
       "  <thead>\n",
       "    <tr style=\"text-align: right;\">\n",
       "      <th></th>\n",
       "      <th>eventid</th>\n",
       "      <th>eventtype</th>\n",
       "      <th>startdatetime</th>\n",
       "      <th>enddatetime</th>\n",
       "      <th>enteredon</th>\n",
       "      <th>eventagency</th>\n",
       "      <th>parkingheld</th>\n",
       "      <th>borough</th>\n",
       "      <th>communityboard_s</th>\n",
       "      <th>policeprecinct_s</th>\n",
       "      <th>category</th>\n",
       "      <th>subcategoryname</th>\n",
       "      <th>country</th>\n",
       "      <th>zipcode_s</th>\n",
       "    </tr>\n",
       "  </thead>\n",
       "  <tbody>\n",
       "    <tr>\n",
       "      <th>count</th>\n",
       "      <td>11074</td>\n",
       "      <td>11074</td>\n",
       "      <td>11074</td>\n",
       "      <td>11074</td>\n",
       "      <td>11074</td>\n",
       "      <td>11074</td>\n",
       "      <td>11074</td>\n",
       "      <td>11074</td>\n",
       "      <td>11074</td>\n",
       "      <td>11074</td>\n",
       "      <td>11074</td>\n",
       "      <td>11074</td>\n",
       "      <td>11074</td>\n",
       "      <td>11074</td>\n",
       "    </tr>\n",
       "    <tr>\n",
       "      <th>unique</th>\n",
       "      <td>11074</td>\n",
       "      <td>4</td>\n",
       "      <td>4325</td>\n",
       "      <td>5242</td>\n",
       "      <td>10923</td>\n",
       "      <td>1</td>\n",
       "      <td>6637</td>\n",
       "      <td>5</td>\n",
       "      <td>341</td>\n",
       "      <td>770</td>\n",
       "      <td>9</td>\n",
       "      <td>27</td>\n",
       "      <td>3</td>\n",
       "      <td>1364</td>\n",
       "    </tr>\n",
       "    <tr>\n",
       "      <th>top</th>\n",
       "      <td>560275</td>\n",
       "      <td>Shooting Permit</td>\n",
       "      <td>2021-11-18T07:00:00.000</td>\n",
       "      <td>2021-07-27T22:00:00.000</td>\n",
       "      <td>2021-10-08T13:24:11.000</td>\n",
       "      <td>Mayor's Office of Film, Theatre &amp; Broadcasting</td>\n",
       "      <td>EAST   11 STREET between 3 AVENUE and 4 AVENUE...</td>\n",
       "      <td>Manhattan</td>\n",
       "      <td>1</td>\n",
       "      <td>94</td>\n",
       "      <td>Television</td>\n",
       "      <td>Episodic series</td>\n",
       "      <td>United States of America</td>\n",
       "      <td>11222</td>\n",
       "    </tr>\n",
       "    <tr>\n",
       "      <th>freq</th>\n",
       "      <td>1</td>\n",
       "      <td>9883</td>\n",
       "      <td>16</td>\n",
       "      <td>12</td>\n",
       "      <td>5</td>\n",
       "      <td>11074</td>\n",
       "      <td>177</td>\n",
       "      <td>4538</td>\n",
       "      <td>2983</td>\n",
       "      <td>1703</td>\n",
       "      <td>7078</td>\n",
       "      <td>4954</td>\n",
       "      <td>11059</td>\n",
       "      <td>1576</td>\n",
       "    </tr>\n",
       "  </tbody>\n",
       "</table>\n",
       "</div>"
      ],
      "text/plain": [
       "       eventid        eventtype            startdatetime  \\\n",
       "count    11074            11074                    11074   \n",
       "unique   11074                4                     4325   \n",
       "top     560275  Shooting Permit  2021-11-18T07:00:00.000   \n",
       "freq         1             9883                       16   \n",
       "\n",
       "                    enddatetime                enteredon  \\\n",
       "count                     11074                    11074   \n",
       "unique                     5242                    10923   \n",
       "top     2021-07-27T22:00:00.000  2021-10-08T13:24:11.000   \n",
       "freq                         12                        5   \n",
       "\n",
       "                                           eventagency  \\\n",
       "count                                            11074   \n",
       "unique                                               1   \n",
       "top     Mayor's Office of Film, Theatre & Broadcasting   \n",
       "freq                                             11074   \n",
       "\n",
       "                                              parkingheld    borough  \\\n",
       "count                                               11074      11074   \n",
       "unique                                               6637          5   \n",
       "top     EAST   11 STREET between 3 AVENUE and 4 AVENUE...  Manhattan   \n",
       "freq                                                  177       4538   \n",
       "\n",
       "       communityboard_s policeprecinct_s    category  subcategoryname  \\\n",
       "count             11074            11074       11074            11074   \n",
       "unique              341              770           9               27   \n",
       "top                   1               94  Television  Episodic series   \n",
       "freq               2983             1703        7078             4954   \n",
       "\n",
       "                         country zipcode_s  \n",
       "count                      11074     11074  \n",
       "unique                         3      1364  \n",
       "top     United States of America     11222  \n",
       "freq                       11059      1576  "
      ]
     },
     "execution_count": 36,
     "metadata": {},
     "output_type": "execute_result"
    }
   ],
   "source": [
    "results_df.describe()"
   ]
  },
  {
   "cell_type": "code",
   "execution_count": 37,
   "metadata": {},
   "outputs": [
    {
     "name": "stdout",
     "output_type": "stream",
     "text": [
      "<class 'pandas.core.frame.DataFrame'>\n",
      "RangeIndex: 11074 entries, 0 to 11073\n",
      "Data columns (total 14 columns):\n",
      " #   Column            Non-Null Count  Dtype \n",
      "---  ------            --------------  ----- \n",
      " 0   eventid           11074 non-null  object\n",
      " 1   eventtype         11074 non-null  object\n",
      " 2   startdatetime     11074 non-null  object\n",
      " 3   enddatetime       11074 non-null  object\n",
      " 4   enteredon         11074 non-null  object\n",
      " 5   eventagency       11074 non-null  object\n",
      " 6   parkingheld       11074 non-null  object\n",
      " 7   borough           11074 non-null  object\n",
      " 8   communityboard_s  11074 non-null  object\n",
      " 9   policeprecinct_s  11074 non-null  object\n",
      " 10  category          11074 non-null  object\n",
      " 11  subcategoryname   11074 non-null  object\n",
      " 12  country           11074 non-null  object\n",
      " 13  zipcode_s         11074 non-null  object\n",
      "dtypes: object(14)\n",
      "memory usage: 1.2+ MB\n"
     ]
    }
   ],
   "source": [
    "results_df.info()"
   ]
  },
  {
   "cell_type": "code",
   "execution_count": 38,
   "metadata": {},
   "outputs": [],
   "source": [
    "import datetime\n",
    "from datetime import datetime"
   ]
  },
  {
   "cell_type": "code",
   "execution_count": 39,
   "metadata": {},
   "outputs": [],
   "source": [
    "results_df['enddatetime']=pd.to_datetime(\n",
    "                                  results_df['enddatetime'],\n",
    "                                 format='%Y/%m/%d %H:%M:%S')"
   ]
  },
  {
   "cell_type": "code",
   "execution_count": 40,
   "metadata": {},
   "outputs": [],
   "source": [
    "results_df['startdatetime']=pd.to_datetime(\n",
    "                                  results_df['startdatetime'],\n",
    "                                 format='%Y/%m/%d %H:%M:%S')"
   ]
  },
  {
   "cell_type": "code",
   "execution_count": 41,
   "metadata": {},
   "outputs": [
    {
     "name": "stdout",
     "output_type": "stream",
     "text": [
      "<class 'pandas.core.frame.DataFrame'>\n",
      "RangeIndex: 11074 entries, 0 to 11073\n",
      "Data columns (total 14 columns):\n",
      " #   Column            Non-Null Count  Dtype         \n",
      "---  ------            --------------  -----         \n",
      " 0   eventid           11074 non-null  object        \n",
      " 1   eventtype         11074 non-null  object        \n",
      " 2   startdatetime     11074 non-null  datetime64[ns]\n",
      " 3   enddatetime       11074 non-null  datetime64[ns]\n",
      " 4   enteredon         11074 non-null  object        \n",
      " 5   eventagency       11074 non-null  object        \n",
      " 6   parkingheld       11074 non-null  object        \n",
      " 7   borough           11074 non-null  object        \n",
      " 8   communityboard_s  11074 non-null  object        \n",
      " 9   policeprecinct_s  11074 non-null  object        \n",
      " 10  category          11074 non-null  object        \n",
      " 11  subcategoryname   11074 non-null  object        \n",
      " 12  country           11074 non-null  object        \n",
      " 13  zipcode_s         11074 non-null  object        \n",
      "dtypes: datetime64[ns](2), object(12)\n",
      "memory usage: 1.2+ MB\n"
     ]
    }
   ],
   "source": [
    "results_df.info()"
   ]
  },
  {
   "cell_type": "code",
   "execution_count": 42,
   "metadata": {},
   "outputs": [],
   "source": [
    "results_df['end_year'] = results_df['enddatetime'].dt.year"
   ]
  },
  {
   "cell_type": "code",
   "execution_count": 43,
   "metadata": {},
   "outputs": [
    {
     "data": {
      "text/plain": [
       "array([2022, 2021])"
      ]
     },
     "execution_count": 43,
     "metadata": {},
     "output_type": "execute_result"
    }
   ],
   "source": [
    "results_df['end_year'].unique()"
   ]
  },
  {
   "cell_type": "code",
   "execution_count": 44,
   "metadata": {},
   "outputs": [],
   "source": [
    "results_df['start_year'] = results_df['startdatetime'].dt.year"
   ]
  },
  {
   "cell_type": "code",
   "execution_count": 45,
   "metadata": {},
   "outputs": [
    {
     "data": {
      "text/plain": [
       "array([2022, 2021])"
      ]
     },
     "execution_count": 45,
     "metadata": {},
     "output_type": "execute_result"
    }
   ],
   "source": [
    "results_df['start_year'].unique()"
   ]
  },
  {
   "cell_type": "code",
   "execution_count": 46,
   "metadata": {},
   "outputs": [],
   "source": [
    "import numpy as np"
   ]
  },
  {
   "cell_type": "code",
   "execution_count": 47,
   "metadata": {},
   "outputs": [],
   "source": [
    "results_df['difference_day'] = pd.DataFrame((results_df['enddatetime']-results_df['startdatetime']).values/np.timedelta64(1,'D'), columns=['difference_day']).round(2)"
   ]
  },
  {
   "cell_type": "code",
   "execution_count": 48,
   "metadata": {},
   "outputs": [
    {
     "data": {
      "text/html": [
       "<div>\n",
       "<style scoped>\n",
       "    .dataframe tbody tr th:only-of-type {\n",
       "        vertical-align: middle;\n",
       "    }\n",
       "\n",
       "    .dataframe tbody tr th {\n",
       "        vertical-align: top;\n",
       "    }\n",
       "\n",
       "    .dataframe thead th {\n",
       "        text-align: right;\n",
       "    }\n",
       "</style>\n",
       "<table border=\"1\" class=\"dataframe\">\n",
       "  <thead>\n",
       "    <tr style=\"text-align: right;\">\n",
       "      <th></th>\n",
       "      <th>eventid</th>\n",
       "      <th>eventtype</th>\n",
       "      <th>startdatetime</th>\n",
       "      <th>enddatetime</th>\n",
       "      <th>enteredon</th>\n",
       "      <th>eventagency</th>\n",
       "      <th>parkingheld</th>\n",
       "      <th>borough</th>\n",
       "      <th>communityboard_s</th>\n",
       "      <th>policeprecinct_s</th>\n",
       "      <th>category</th>\n",
       "      <th>subcategoryname</th>\n",
       "      <th>country</th>\n",
       "      <th>zipcode_s</th>\n",
       "      <th>end_year</th>\n",
       "      <th>start_year</th>\n",
       "      <th>difference_day</th>\n",
       "    </tr>\n",
       "  </thead>\n",
       "  <tbody>\n",
       "    <tr>\n",
       "      <th>0</th>\n",
       "      <td>670312</td>\n",
       "      <td>Shooting Permit</td>\n",
       "      <td>2022-08-30 13:00:00</td>\n",
       "      <td>2022-08-30 23:30:00</td>\n",
       "      <td>2022-08-29T11:51:10.000</td>\n",
       "      <td>Mayor's Office of Film, Theatre &amp; Broadcasting</td>\n",
       "      <td>WEST   45 STREET between 9 AVENUE and 8 AVENUE...</td>\n",
       "      <td>Manhattan</td>\n",
       "      <td>4</td>\n",
       "      <td>10, 14, 18</td>\n",
       "      <td>Television</td>\n",
       "      <td>Episodic series</td>\n",
       "      <td>United States of America</td>\n",
       "      <td>10036</td>\n",
       "      <td>2022</td>\n",
       "      <td>2022</td>\n",
       "      <td>0.44</td>\n",
       "    </tr>\n",
       "    <tr>\n",
       "      <th>1</th>\n",
       "      <td>670122</td>\n",
       "      <td>Shooting Permit</td>\n",
       "      <td>2022-08-30 06:00:00</td>\n",
       "      <td>2022-08-30 22:00:00</td>\n",
       "      <td>2022-08-26T15:38:52.000</td>\n",
       "      <td>Mayor's Office of Film, Theatre &amp; Broadcasting</td>\n",
       "      <td>NORMAN AVENUE between JEWEL STREET and HUMBOLD...</td>\n",
       "      <td>Brooklyn</td>\n",
       "      <td>1</td>\n",
       "      <td>94</td>\n",
       "      <td>Commercial</td>\n",
       "      <td>Commercial</td>\n",
       "      <td>United States of America</td>\n",
       "      <td>11222</td>\n",
       "      <td>2022</td>\n",
       "      <td>2022</td>\n",
       "      <td>0.67</td>\n",
       "    </tr>\n",
       "    <tr>\n",
       "      <th>2</th>\n",
       "      <td>670067</td>\n",
       "      <td>Shooting Permit</td>\n",
       "      <td>2022-08-30 07:00:00</td>\n",
       "      <td>2022-08-30 12:00:00</td>\n",
       "      <td>2022-08-26T13:10:40.000</td>\n",
       "      <td>Mayor's Office of Film, Theatre &amp; Broadcasting</td>\n",
       "      <td>GREENPOINT AVENUE between NEWEL STREET and PRO...</td>\n",
       "      <td>Brooklyn</td>\n",
       "      <td>1</td>\n",
       "      <td>94</td>\n",
       "      <td>Television</td>\n",
       "      <td>Episodic series</td>\n",
       "      <td>United States of America</td>\n",
       "      <td>11222</td>\n",
       "      <td>2022</td>\n",
       "      <td>2022</td>\n",
       "      <td>0.21</td>\n",
       "    </tr>\n",
       "    <tr>\n",
       "      <th>3</th>\n",
       "      <td>669996</td>\n",
       "      <td>Shooting Permit</td>\n",
       "      <td>2022-08-30 06:00:00</td>\n",
       "      <td>2022-08-30 22:00:00</td>\n",
       "      <td>2022-08-26T11:01:45.000</td>\n",
       "      <td>Mayor's Office of Film, Theatre &amp; Broadcasting</td>\n",
       "      <td>31 STREET between 47 AVENUE and 48 AVENUE</td>\n",
       "      <td>Queens</td>\n",
       "      <td>2</td>\n",
       "      <td>108</td>\n",
       "      <td>Television</td>\n",
       "      <td>Episodic series</td>\n",
       "      <td>United States of America</td>\n",
       "      <td>11101</td>\n",
       "      <td>2022</td>\n",
       "      <td>2022</td>\n",
       "      <td>0.67</td>\n",
       "    </tr>\n",
       "    <tr>\n",
       "      <th>4</th>\n",
       "      <td>669990</td>\n",
       "      <td>Shooting Permit</td>\n",
       "      <td>2022-08-30 08:00:00</td>\n",
       "      <td>2022-08-30 23:30:00</td>\n",
       "      <td>2022-08-26T10:43:16.000</td>\n",
       "      <td>Mayor's Office of Film, Theatre &amp; Broadcasting</td>\n",
       "      <td>COMMERCIAL STREET between BOX STREET and MANHA...</td>\n",
       "      <td>Brooklyn</td>\n",
       "      <td>1</td>\n",
       "      <td>94</td>\n",
       "      <td>Television</td>\n",
       "      <td>Episodic series</td>\n",
       "      <td>United States of America</td>\n",
       "      <td>11222</td>\n",
       "      <td>2022</td>\n",
       "      <td>2022</td>\n",
       "      <td>0.65</td>\n",
       "    </tr>\n",
       "  </tbody>\n",
       "</table>\n",
       "</div>"
      ],
      "text/plain": [
       "  eventid        eventtype       startdatetime         enddatetime  \\\n",
       "0  670312  Shooting Permit 2022-08-30 13:00:00 2022-08-30 23:30:00   \n",
       "1  670122  Shooting Permit 2022-08-30 06:00:00 2022-08-30 22:00:00   \n",
       "2  670067  Shooting Permit 2022-08-30 07:00:00 2022-08-30 12:00:00   \n",
       "3  669996  Shooting Permit 2022-08-30 06:00:00 2022-08-30 22:00:00   \n",
       "4  669990  Shooting Permit 2022-08-30 08:00:00 2022-08-30 23:30:00   \n",
       "\n",
       "                 enteredon                                     eventagency  \\\n",
       "0  2022-08-29T11:51:10.000  Mayor's Office of Film, Theatre & Broadcasting   \n",
       "1  2022-08-26T15:38:52.000  Mayor's Office of Film, Theatre & Broadcasting   \n",
       "2  2022-08-26T13:10:40.000  Mayor's Office of Film, Theatre & Broadcasting   \n",
       "3  2022-08-26T11:01:45.000  Mayor's Office of Film, Theatre & Broadcasting   \n",
       "4  2022-08-26T10:43:16.000  Mayor's Office of Film, Theatre & Broadcasting   \n",
       "\n",
       "                                         parkingheld    borough  \\\n",
       "0  WEST   45 STREET between 9 AVENUE and 8 AVENUE...  Manhattan   \n",
       "1  NORMAN AVENUE between JEWEL STREET and HUMBOLD...   Brooklyn   \n",
       "2  GREENPOINT AVENUE between NEWEL STREET and PRO...   Brooklyn   \n",
       "3          31 STREET between 47 AVENUE and 48 AVENUE     Queens   \n",
       "4  COMMERCIAL STREET between BOX STREET and MANHA...   Brooklyn   \n",
       "\n",
       "  communityboard_s policeprecinct_s    category  subcategoryname  \\\n",
       "0                4       10, 14, 18  Television  Episodic series   \n",
       "1                1               94  Commercial       Commercial   \n",
       "2                1               94  Television  Episodic series   \n",
       "3                2              108  Television  Episodic series   \n",
       "4                1               94  Television  Episodic series   \n",
       "\n",
       "                    country zipcode_s  end_year  start_year  difference_day  \n",
       "0  United States of America     10036      2022        2022            0.44  \n",
       "1  United States of America     11222      2022        2022            0.67  \n",
       "2  United States of America     11222      2022        2022            0.21  \n",
       "3  United States of America     11101      2022        2022            0.67  \n",
       "4  United States of America     11222      2022        2022            0.65  "
      ]
     },
     "execution_count": 48,
     "metadata": {},
     "output_type": "execute_result"
    }
   ],
   "source": [
    "results_df.head()"
   ]
  },
  {
   "cell_type": "code",
   "execution_count": 49,
   "metadata": {},
   "outputs": [
    {
     "data": {
      "text/plain": [
       "Television           7078\n",
       "Film                 1131\n",
       "Theater              1041\n",
       "Commercial            783\n",
       "Still Photography     491\n",
       "WEB                   417\n",
       "Documentary            67\n",
       "Student                37\n",
       "Music Video            29\n",
       "Name: category, dtype: int64"
      ]
     },
     "execution_count": 49,
     "metadata": {},
     "output_type": "execute_result"
    }
   ],
   "source": [
    "results_df['category'].value_counts()"
   ]
  },
  {
   "cell_type": "code",
   "execution_count": 20,
   "metadata": {},
   "outputs": [],
   "source": [
    "import matplotlib\n",
    "import matplotlib.pyplot as plt\n",
    "import seaborn as sns"
   ]
  },
  {
   "cell_type": "code",
   "execution_count": 52,
   "metadata": {},
   "outputs": [
    {
     "data": {
      "image/png": "[encoded data removed]",
      "text/plain": [
       "<Figure size 1080x720 with 1 Axes>"
      ]
     },
     "metadata": {
      "needs_background": "light"
     },
     "output_type": "display_data"
    }
   ],
   "source": [
    "plt.figure(figsize=(15,10))\n",
    "sns.countplot(x='category',data=results_df,order=results_df['category'].value_counts().index)\n",
    "plt.title(\"Number of permits granted in each category of shooting activity\",fontsize=20)\n",
    "plt.xlabel(\"Category\",fontsize=16)\n",
    "plt.ylabel(\"Number of permits\",fontsize=16)\n",
    "plt.show()"
   ]
  },
  {
   "cell_type": "code",
   "execution_count": 19,
   "metadata": {},
   "outputs": [
    {
     "data": {
      "text/plain": [
       "Shooting Permit                  9862\n",
       "Theater Load in and Load Outs    1009\n",
       "Rigging Permit                    117\n",
       "DCAS Prep/Shoot/Wrap Permit        64\n",
       "Name: eventtype, dtype: int64"
      ]
     },
     "execution_count": 19,
     "metadata": {},
     "output_type": "execute_result"
    }
   ],
   "source": [
    "results_df['eventtype'].value_counts()"
   ]
  },
  {
   "cell_type": "code",
   "execution_count": 21,
   "metadata": {},
   "outputs": [
    {
     "data": {
      "image/png": "[encoded data removed]",
      "text/plain": [
       "<Figure size 1080x720 with 1 Axes>"
      ]
     },
     "metadata": {
      "needs_background": "light"
     },
     "output_type": "display_data"
    }
   ],
   "source": [
    "plt.figure(figsize=(15,10))\n",
    "sns.countplot(x='eventtype',data=results_df,order=results_df['eventtype'].value_counts().index)\n",
    "plt.title(\"Number of permits granted per event type\",fontsize=18)\n",
    "plt.xlabel(\"Different Event types\",fontsize=15)\n",
    "plt.ylabel(\"Number of permits\",fontsize=15)\n",
    "plt.show()"
   ]
  },
  {
   "cell_type": "code",
   "execution_count": 50,
   "metadata": {},
   "outputs": [
    {
     "data": {
      "text/plain": [
       "Manhattan        4538\n",
       "Brooklyn         3972\n",
       "Queens           2010\n",
       "Bronx             458\n",
       "Staten Island      96\n",
       "Name: borough, dtype: int64"
      ]
     },
     "execution_count": 50,
     "metadata": {},
     "output_type": "execute_result"
    }
   ],
   "source": [
    "results_df['borough'].value_counts()"
   ]
  },
  {
   "cell_type": "code",
   "execution_count": 53,
   "metadata": {},
   "outputs": [
    {
     "data": {
      "text/plain": [
       "United States of America    11059\n",
       "United Kingdom                 11\n",
       "Canada                          4\n",
       "Name: country, dtype: int64"
      ]
     },
     "execution_count": 53,
     "metadata": {},
     "output_type": "execute_result"
    }
   ],
   "source": [
    "results_df['country'].value_counts()"
   ]
  },
  {
   "cell_type": "code",
   "execution_count": 30,
   "metadata": {},
   "outputs": [
    {
     "name": "stdout",
     "output_type": "stream",
     "text": [
      "Data index for missing ZipCode(s) []\n"
     ]
    }
   ],
   "source": [
    "print(\"Data index for missing ZipCode(s)\",list(results_df[results_df['zipcode_s'].isnull()].index))"
   ]
  },
  {
   "cell_type": "code",
   "execution_count": 23,
   "metadata": {},
   "outputs": [],
   "source": [
    "#!pip install geopandas"
   ]
  },
  {
   "cell_type": "code",
   "execution_count": 24,
   "metadata": {},
   "outputs": [],
   "source": [
    "#!pip install --upgrade pip setuptools wheel"
   ]
  },
  {
   "cell_type": "code",
   "execution_count": 25,
   "metadata": {},
   "outputs": [],
   "source": [
    "#conda install -c conda-forge cartopy"
   ]
  },
  {
   "cell_type": "code",
   "execution_count": 28,
   "metadata": {},
   "outputs": [],
   "source": [
    "#!pip install geoplot"
   ]
  },
  {
   "cell_type": "code",
   "execution_count": 27,
   "metadata": {},
   "outputs": [],
   "source": [
    "# import geopandas\n",
    "# import geoplot\n",
    "# import pandas as pd\n",
    "# from shapely.geometry import Point, Polygon"
   ]
  },
  {
   "cell_type": "code",
   "execution_count": null,
   "metadata": {},
   "outputs": [],
   "source": [
    "#cols_to_keep=['store_longitude','store_latitude']\n",
    "\n",
    "# crs={'init':'epsg:4326'}\n",
    "\n",
    "# boroughs = geopandas.read_file(geoplot.datasets.get_path('nyc_boroughs'))\n",
    "\n",
    "# geo_df=geopandas.GeoDataFrame(store_locDF,crs=crs,geometry=geopandas.points_from_xy(store_locDF[\"store_longitude\"], store_locDF[\"store_latitude\"]))\n",
    "\n",
    "\n",
    "\n",
    "# fig,ax=plt.subplots(figsize=(15,15))\n",
    "# boroughs.plot(ax=ax,alpha=0.4,color=\"grey\")\n",
    "# geo_df[geo_df['active_yn']==\"Y\"].plot(ax=ax,markersize=200, alpha=0.4,color=\"green\", label=\"Active Store\")\n",
    "# geo_df[geo_df['active_yn']==\"N\"].plot(ax=ax,markersize=200, alpha=0.4,color=\"red\", label=\"Inactive Stores\")\n",
    "# plt.legend()"
   ]
  },
  {
   "cell_type": "code",
   "execution_count": null,
   "metadata": {},
   "outputs": [],
   "source": []
  }
 ],
 "metadata": {
  "kernelspec": {
   "display_name": "Python 3",
   "language": "python",
   "name": "python3"
  },
  "language_info": {
   "codemirror_mode": {
    "name": "ipython",
    "version": 3
   },
   "file_extension": ".py",
   "mimetype": "text/x-python",
   "name": "python",
   "nbconvert_exporter": "python",
   "pygments_lexer": "ipython3",
   "version": "3.8.5"
  }
 },
 "nbformat": 4,
 "nbformat_minor": 4
}
